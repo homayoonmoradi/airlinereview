{
 "cells": [
  {
   "cell_type": "markdown",
   "metadata": {},
   "source": [
    "# Part 1: Load Data"
   ]
  },
  {
   "cell_type": "code",
   "execution_count": 1,
   "metadata": {},
   "outputs": [],
   "source": [
    "import warnings\n",
    "warnings.filterwarnings('ignore')\n",
    "warnings.filterwarnings(\"ignore\",category=DeprecationWarning)\n",
    "import numpy as np\n",
    "import pandas as pd\n",
    "import seaborn as sns\n",
    "pd.set_option('display.max_columns', 20)\n"
   ]
  },
  {
   "cell_type": "code",
   "execution_count": 2,
   "metadata": {},
   "outputs": [],
   "source": [
    "peers = pd.read_csv(\"peers.csv\")\n",
    "germanwings = peers[peers.airline_code==\"germanwings\"].drop(\"germanwings\",axis=1)"
   ]
  },
  {
   "cell_type": "code",
   "execution_count": 3,
   "metadata": {},
   "outputs": [
    {
     "data": {
      "text/html": [
       "<div>\n",
       "<style scoped>\n",
       "    .dataframe tbody tr th:only-of-type {\n",
       "        vertical-align: middle;\n",
       "    }\n",
       "\n",
       "    .dataframe tbody tr th {\n",
       "        vertical-align: top;\n",
       "    }\n",
       "\n",
       "    .dataframe thead th {\n",
       "        text-align: right;\n",
       "    }\n",
       "</style>\n",
       "<table border=\"1\" class=\"dataframe\">\n",
       "  <thead>\n",
       "    <tr style=\"text-align: right;\">\n",
       "      <th></th>\n",
       "      <th>cabin_service</th>\n",
       "      <th>country</th>\n",
       "      <th>date_flown</th>\n",
       "      <th>date_published</th>\n",
       "      <th>ground_service</th>\n",
       "      <th>id</th>\n",
       "      <th>name</th>\n",
       "      <th>rating</th>\n",
       "      <th>recommended</th>\n",
       "      <th>review_count</th>\n",
       "      <th>...</th>\n",
       "      <th>seat_comfort</th>\n",
       "      <th>seat_type</th>\n",
       "      <th>text</th>\n",
       "      <th>text_header</th>\n",
       "      <th>traveller_type</th>\n",
       "      <th>value_for_money</th>\n",
       "      <th>airline_name</th>\n",
       "      <th>airline_code</th>\n",
       "      <th>days_after_crash</th>\n",
       "      <th>review</th>\n",
       "    </tr>\n",
       "  </thead>\n",
       "  <tbody>\n",
       "    <tr>\n",
       "      <th>3626</th>\n",
       "      <td>3.0</td>\n",
       "      <td>Netherlands</td>\n",
       "      <td>2019-06-01 00:00:00</td>\n",
       "      <td>2019-07-01</td>\n",
       "      <td>3.0</td>\n",
       "      <td>anchor667978</td>\n",
       "      <td>Sander van Kan</td>\n",
       "      <td>7.0</td>\n",
       "      <td>1.0</td>\n",
       "      <td>8</td>\n",
       "      <td>...</td>\n",
       "      <td>4.0</td>\n",
       "      <td>Economy Class</td>\n",
       "      <td>Dusseldorf to Berlin. Eurowings flight operat...</td>\n",
       "      <td>Seat was fine with enough legroom.</td>\n",
       "      <td>Couple Leisure</td>\n",
       "      <td>5.0</td>\n",
       "      <td>Germanwings</td>\n",
       "      <td>germanwings</td>\n",
       "      <td>1560</td>\n",
       "      <td>Seat was fine with enough legroom.  Dusseldorf...</td>\n",
       "    </tr>\n",
       "  </tbody>\n",
       "</table>\n",
       "<p>1 rows × 21 columns</p>\n",
       "</div>"
      ],
      "text/plain": [
       "      cabin_service      country           date_flown date_published  \\\n",
       "3626            3.0  Netherlands  2019-06-01 00:00:00     2019-07-01   \n",
       "\n",
       "      ground_service            id            name  rating  recommended  \\\n",
       "3626             3.0  anchor667978  Sander van Kan     7.0          1.0   \n",
       "\n",
       "      review_count  ... seat_comfort      seat_type  \\\n",
       "3626             8  ...          4.0  Economy Class   \n",
       "\n",
       "                                                   text  \\\n",
       "3626   Dusseldorf to Berlin. Eurowings flight operat...   \n",
       "\n",
       "                             text_header  traveller_type value_for_money  \\\n",
       "3626  Seat was fine with enough legroom.  Couple Leisure             5.0   \n",
       "\n",
       "      airline_name airline_code days_after_crash  \\\n",
       "3626   Germanwings  germanwings             1560   \n",
       "\n",
       "                                                 review  \n",
       "3626  Seat was fine with enough legroom.  Dusseldorf...  \n",
       "\n",
       "[1 rows x 21 columns]"
      ]
     },
     "execution_count": 3,
     "metadata": {},
     "output_type": "execute_result"
    }
   ],
   "source": [
    "germanwings.head(1)"
   ]
  },
  {
   "cell_type": "markdown",
   "metadata": {},
   "source": [
    "## Training a model"
   ]
  },
  {
   "cell_type": "code",
   "execution_count": 4,
   "metadata": {},
   "outputs": [
    {
     "name": "stdout",
     "output_type": "stream",
     "text": [
      "Number of rows in the total set: 146\n",
      "Number of rows in the training set: 109\n",
      "Number of rows in the test set: 37\n"
     ]
    }
   ],
   "source": [
    "from sklearn.model_selection import train_test_split\n",
    "\n",
    "X_train, X_test, y_train, y_test = train_test_split(germanwings.review, \n",
    "                                                    germanwings.recommended, \n",
    "                                                    random_state=0)\n",
    "\n",
    "print('Number of rows in the total set: {}'.format(germanwings.shape[0]))\n",
    "print('Number of rows in the training set: {}'.format(X_train.shape[0]))\n",
    "print('Number of rows in the test set: {}'.format(X_test.shape[0]))"
   ]
  },
  {
   "cell_type": "code",
   "execution_count": 5,
   "metadata": {},
   "outputs": [],
   "source": [
    "from sklearn.feature_extraction.text import CountVectorizer\n",
    "count_vector = CountVectorizer()\n",
    "# Fit the training data and then return the matrix\n",
    "training_data = count_vector.fit_transform(X_train)\n",
    "\n",
    "# Transform testing data and return the matrix. Note we are not fitting the testing data into the CountVectorizer()\n",
    "testing_data = count_vector.transform(X_test)"
   ]
  },
  {
   "cell_type": "code",
   "execution_count": 6,
   "metadata": {},
   "outputs": [],
   "source": [
    "from sklearn.naive_bayes import MultinomialNB\n",
    "naive_bayes = MultinomialNB()\n",
    "naive_bayes.fit(training_data, y_train)\n",
    "predictions = naive_bayes.predict(testing_data)"
   ]
  },
  {
   "cell_type": "code",
   "execution_count": 7,
   "metadata": {},
   "outputs": [
    {
     "name": "stdout",
     "output_type": "stream",
     "text": [
      "Accuracy score:  0.7297297297297297\n",
      "Precision score:  0.6\n",
      "Recall score:  0.8571428571428571\n",
      "F1 score:  0.7058823529411764\n"
     ]
    }
   ],
   "source": [
    "from sklearn.metrics import accuracy_score, precision_score, recall_score, f1_score\n",
    "print('Accuracy score: ', format(accuracy_score(predictions,y_test)))\n",
    "print('Precision score: ', format(precision_score(predictions,y_test)))\n",
    "print('Recall score: ', format(recall_score(predictions,y_test)))\n",
    "print('F1 score: ', format(f1_score(predictions,y_test)))"
   ]
  },
  {
   "cell_type": "code",
   "execution_count": 9,
   "metadata": {},
   "outputs": [
    {
     "name": "stdout",
     "output_type": "stream",
     "text": [
      "Top 5 words predicting to recommend:\n",
      " ['compartments' 'satisfied' 'saturday' 'move' 'saved']\n",
      "\n",
      "Top 5 words predicting to not recommend:\n",
      " ['00' 'landing' 'lane' 'language' 'lasts']\n"
     ]
    }
   ],
   "source": [
    "pos_class_prob_sorted = naive_bayes.feature_log_prob_[0, :].argsort()\n",
    "neg_class_prob_sorted = naive_bayes.feature_log_prob_[1, :].argsort()\n",
    "\n",
    "print(\"Top 5 words predicting to recommend:\\n\" , np.take(count_vector.get_feature_names(), pos_class_prob_sorted[:5]))\n",
    "print(\"\\nTop emotions = emotion_analyzer_documents(pressed_reviews)\n",
    "emotions5 words predicting to not recommend:\\n\", np.take(count_vector.get_feature_names(), neg_class_prob_sorted[:5]))\n"
   ]
  },
  {
   "cell_type": "code",
   "execution_count": null,
   "metadata": {},
   "outputs": [],
   "source": []
  }
 ],
 "metadata": {
  "kernelspec": {
   "display_name": "Python 3",
   "language": "python",
   "name": "python3"
  },
  "language_info": {
   "codemirror_mode": {
    "name": "ipython",
    "version": 3
   },
   "file_extension": ".py",
   "mimetype": "text/x-python",
   "name": "python",
   "nbconvert_exporter": "python",
   "pygments_lexer": "ipython3",
   "version": "3.7.3"
  }
 },
 "nbformat": 4,
 "nbformat_minor": 2
}
